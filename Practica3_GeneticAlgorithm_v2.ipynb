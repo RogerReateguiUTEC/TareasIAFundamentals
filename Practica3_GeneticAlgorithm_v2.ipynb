{
  "nbformat": 4,
  "nbformat_minor": 0,
  "metadata": {
    "colab": {
      "provenance": [],
      "include_colab_link": true
    },
    "kernelspec": {
      "name": "python3",
      "display_name": "Python 3"
    },
    "language_info": {
      "name": "python"
    }
  },
  "cells": [
    {
      "cell_type": "markdown",
      "metadata": {
        "id": "view-in-github",
        "colab_type": "text"
      },
      "source": [
        "<a href=\"https://colab.research.google.com/github/RogerReateguiUTEC/TareasIAFundamentals/blob/main/Practica3_GeneticAlgorithm_v2.ipynb\" target=\"_parent\"><img src=\"https://colab.research.google.com/assets/colab-badge.svg\" alt=\"Open In Colab\"/></a>"
      ]
    },
    {
      "cell_type": "code",
      "source": [
        "import numpy as np\n",
        "from scipy.spatial.distance import pdist, squareform\n",
        "from matplotlib import pyplot as plt\n",
        "import random"
      ],
      "metadata": {
        "id": "tDdtmH8OtRXH"
      },
      "execution_count": 2,
      "outputs": []
    },
    {
      "cell_type": "code",
      "source": [
        "def plot_tsp(cities, route):\n",
        "    x = [node[0] for node in cities]\n",
        "    y = [node[1] for node in cities]\n",
        "\n",
        "    plt.figure(figsize=(8, 6))\n",
        "    plt.scatter(x, y, color='blue', zorder=2)  #Graficando los nodos\n",
        "\n",
        "    for i in range(len(cities)):\n",
        "        plt.text(cities[i][0], cities[i][1], f'({round(cities[i][0],3)}, {round(cities[i][1],3)})', fontsize=8) #etiquetas en cada coordenada de ciudad\n",
        "\n",
        "\n",
        "    for i in range(len(route) - 1):\n",
        "        node1 = route[i]\n",
        "        node2 = route[i + 1]\n",
        "        plt.plot([cities[node1][0], cities[node2][0]], [cities[node1][1], cities[node2][1]], color='red', zorder=1)  # Plot route\n",
        "\n",
        "    # Connect the last node to the first node to form a loop\n",
        "    #node1 = route[-1]\n",
        "    #node2 = route[0]\n",
        "    #plt.plot([cities[node1][0], cities[node2][0]], [cities[node1][1], cities[node2][1]], color='red', zorder=1)  # Plot route\n",
        "\n",
        "    plt.xlabel('X')\n",
        "    plt.ylabel('Y')\n",
        "    plt.title('TSP Nodes and Route')\n",
        "    plt.grid(True)\n",
        "    plt.show()"
      ],
      "metadata": {
        "id": "8ey_d4p77fLs"
      },
      "execution_count": 3,
      "outputs": []
    },
    {
      "cell_type": "code",
      "source": [
        "def fitness(solution):\n",
        "  for i in range(len(solution)-1):\n",
        "    distance += distances[solution[i]][solution[i+1]]\n",
        "  return distance"
      ],
      "metadata": {
        "id": "bybcX0Lc7WPn"
      },
      "execution_count": 4,
      "outputs": []
    },
    {
      "cell_type": "code",
      "execution_count": 5,
      "metadata": {
        "id": "DLIbPmmf50aR"
      },
      "outputs": [],
      "source": [
        "def create_initial_population(pop_size, num_cities):\n",
        "  population = [] #vector de soluciones\n",
        "  for i in range(pop_size):\n",
        "    # crear solucion\n",
        "    individual = list(np.random.permutation(num_cities)) #genotipos\n",
        "    population.append(individual)\n",
        "\n",
        "  return population"
      ]
    },
    {
      "cell_type": "code",
      "source": [
        "def roulete_wheel_selection_minimization(population, all_fitness):\n",
        "    max_fitness = max(all_fitness)\n",
        "    inverted_fitness = [max_fitness - f for f in all_fitness]  # invert fitness\n",
        "    total_fitness = sum(inverted_fitness)\n",
        "    selection_probs = [f / total_fitness for f in inverted_fitness]\n",
        "    return population[np.random.choice(len(population), p=selection_probs)]"
      ],
      "metadata": {
        "id": "2pgVTLUpBHHe"
      },
      "execution_count": 6,
      "outputs": []
    },
    {
      "cell_type": "code",
      "source": [
        "def fill_child(child, parent, end):\n",
        "    size = len(parent)\n",
        "    current_pos = (end + 1) % size\n",
        "    for gene in parent:\n",
        "        if gene not in child:\n",
        "            child[current_pos] = gene\n",
        "            current_pos = (current_pos + 1) % size\n",
        "\n",
        "def ordered_crossover(parent1, parent2):\n",
        "  size = len(parent1)\n",
        "  child1 = [-1]*size\n",
        "  child2 = [-1]*size\n",
        "\n",
        "  start, end = sorted( random.sample(range(size), 2 ))\n",
        "\n",
        "  child1[start:end+1] = parent2[start:end+1]\n",
        "  child2[start:end+1] = parent1[start:end+1]\n",
        "\n",
        "  fill_child(child1, parent1, end)\n",
        "  fill_child(child2, parent2, end)\n",
        "\n",
        "  return child1, child2"
      ],
      "metadata": {
        "id": "HX1TwvzsHMgf"
      },
      "execution_count": 7,
      "outputs": []
    },
    {
      "cell_type": "code",
      "source": [
        "def swap_mutate(individual):\n",
        "  i, j = np.random.choice(len(individual), 2, replace=False) # two random indices\n",
        "  new_individual = individual.copy()\n",
        "  new_individual[i], new_individual[j] = individual[j], individual[i]\n",
        "  return new_individual"
      ],
      "metadata": {
        "id": "XmpUFnVXQpSt"
      },
      "execution_count": 8,
      "outputs": []
    },
    {
      "cell_type": "code",
      "source": [
        "def select_elite(population, all_fitness, elite_size):   # selecciona los que tengan el mejor fitness\n",
        "  elite_indices = np.argsort(all_fitness)[:elite_size]\n",
        "  return np.array(population)[elite_indices], elite_indices"
      ],
      "metadata": {
        "id": "MroSCGZDVgVf"
      },
      "execution_count": 9,
      "outputs": []
    },
    {
      "cell_type": "code",
      "source": [
        "history = []\n",
        "\n",
        "def genetic_algorithm_experiment1(distance_matrix, mutation_rate, generations):\n",
        "  num_cities = distance_matrix.shape[0]\n",
        "\n",
        "  #1. INICIALIZACION DE LA POBLACION (RANDOM):\n",
        "  population = create_initial_population(pop_size, N) #pop_size = 100; N = 50. [[45,15,...n50],[42,26,...n50]...[m100]] #esto es como el orden en que el TSP irá a cada ciudad (primero a la 45, luego a la 15, etc.)\n",
        "\n",
        "  #Hallamos el fitness de cada solución en la población (lista de distancias totales)\n",
        "  all_fitness = [ fitness(sol) for sol in population ]\n",
        "\n",
        "  for generation in range(generations):\n",
        "    new_population = []\n",
        "\n",
        "    #Se guardan los mejores de la antigua población\n",
        "    selected_elite, indices = select_elite(population, all_fitness, elite_size)\n",
        "    new_population.extend( selected_elite )\n",
        "\n",
        "    while len(new_population) < pop_size:\n",
        "      #2. SELECCION: Escogemos una muestra de la población por distintos métodos\n",
        "      parent1 = roulete_wheel_selection_minimization(population, all_fitness)\n",
        "      parent2 = roulete_wheel_selection_minimization(population, all_fitness)\n",
        "\n",
        "      #3. CROSSOVER:\n",
        "      child1, child2 = ordered_crossover(parent1, parent2)\n",
        "\n",
        "      #4.MUTATION:\n",
        "      if random.random() < mutation_rate:\n",
        "        child1 = swap_mutate(child1)\n",
        "\n",
        "      if random.random() < mutation_rate:\n",
        "        child2 = swap_mutate(child2)\n",
        "\n",
        "      #5.SUBSTITUTION:\n",
        "      new_population.extend([child1, child2])\n",
        "\n",
        "    population = new_population[:pop_size]\n",
        "    all_fitness = [ fitness(sol) for sol in population ]\n",
        "\n",
        "\n",
        "    if generation % 50 == 0:\n",
        "      print(f\"Generation {generation} | Best distance: {min(all_fitness)}\")\n",
        "      history.append([generation, min(all_fitness)])\n",
        "\n",
        "\n",
        "  best_route_index = np.argmin(all_fitness)\n",
        "  best_route = population[best_route_index]\n",
        "  best_distance = all_fitness[best_route_index]\n",
        "\n",
        "  print(f\"Final best distance: {best_distance}\")\n",
        "  return best_route, best_distance\n",
        "\n",
        "\n"
      ],
      "metadata": {
        "id": "V_aIXEBxWF36"
      },
      "execution_count": null,
      "outputs": []
    },
    {
      "cell_type": "code",
      "source": [
        "# HYPERPARAMETROS:\n",
        "\n",
        "pop_size = 100 #cantidad de soluciones (población o genomas)\n",
        "N = 100 #cantidad de ciudades\n",
        "elite_size = 10 #\n",
        "mutation_rate = 0.01\n",
        "generations = 5000\n",
        "\n",
        "\n",
        "cities = np.random.rand(N, 2)\n",
        "distances = squareform(pdist(cities, 'euclidean'))\n",
        "\n",
        "best_route, best_distance = genetic_algorithm_experiment1(distances, mutation_rate, generations)\n",
        "plot_tsp(cities, best_route)"
      ],
      "metadata": {
        "id": "O8_Ep2ZCK33g",
        "outputId": "0726235c-d160-4e1d-d1c8-fc2db833fd48",
        "colab": {
          "base_uri": "https://localhost:8080/",
          "height": 198
        }
      },
      "execution_count": 12,
      "outputs": [
        {
          "output_type": "error",
          "ename": "NameError",
          "evalue": "name 'genetic_algorithm_experiment1' is not defined",
          "traceback": [
            "\u001b[0;31m---------------------------------------------------------------------------\u001b[0m",
            "\u001b[0;31mNameError\u001b[0m                                 Traceback (most recent call last)",
            "\u001b[0;32m<ipython-input-12-38d7aa64fa3a>\u001b[0m in \u001b[0;36m<cell line: 12>\u001b[0;34m()\u001b[0m\n\u001b[1;32m     10\u001b[0m \u001b[0mdistances\u001b[0m \u001b[0;34m=\u001b[0m \u001b[0msquareform\u001b[0m\u001b[0;34m(\u001b[0m\u001b[0mpdist\u001b[0m\u001b[0;34m(\u001b[0m\u001b[0mcities\u001b[0m\u001b[0;34m,\u001b[0m \u001b[0;34m'euclidean'\u001b[0m\u001b[0;34m)\u001b[0m\u001b[0;34m)\u001b[0m\u001b[0;34m\u001b[0m\u001b[0;34m\u001b[0m\u001b[0m\n\u001b[1;32m     11\u001b[0m \u001b[0;34m\u001b[0m\u001b[0m\n\u001b[0;32m---> 12\u001b[0;31m \u001b[0mbest_route\u001b[0m\u001b[0;34m,\u001b[0m \u001b[0mbest_distance\u001b[0m \u001b[0;34m=\u001b[0m \u001b[0mgenetic_algorithm_experiment1\u001b[0m\u001b[0;34m(\u001b[0m\u001b[0mdistances\u001b[0m\u001b[0;34m,\u001b[0m \u001b[0mmutation_rate\u001b[0m\u001b[0;34m,\u001b[0m \u001b[0mgenerations\u001b[0m\u001b[0;34m)\u001b[0m\u001b[0;34m\u001b[0m\u001b[0;34m\u001b[0m\u001b[0m\n\u001b[0m\u001b[1;32m     13\u001b[0m \u001b[0mplot_tsp\u001b[0m\u001b[0;34m(\u001b[0m\u001b[0mcities\u001b[0m\u001b[0;34m,\u001b[0m \u001b[0mbest_route\u001b[0m\u001b[0;34m)\u001b[0m\u001b[0;34m\u001b[0m\u001b[0;34m\u001b[0m\u001b[0m\n",
            "\u001b[0;31mNameError\u001b[0m: name 'genetic_algorithm_experiment1' is not defined"
          ]
        }
      ]
    },
    {
      "cell_type": "code",
      "source": [],
      "metadata": {
        "id": "wpmO8KWgomgD"
      },
      "execution_count": null,
      "outputs": []
    }
  ]
}